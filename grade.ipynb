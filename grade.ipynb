{
 "cells": [
  {
   "cell_type": "code",
   "execution_count": 1,
   "id": "d043a341-c964-4356-ac4a-b1c1bf682796",
   "metadata": {},
   "outputs": [
    {
     "name": "stdin",
     "output_type": "stream",
     "text": [
      "Enter marks obtained in subject 1:  23\n",
      "Enter marks obtained in subject 2:  34\n",
      "Enter marks obtained in subject 3:  45\n"
     ]
    },
    {
     "name": "stdout",
     "output_type": "stream",
     "text": [
      "Average marks: 34.00\n",
      "Grade: F\n"
     ]
    }
   ],
   "source": [
    "sub1 = int(input(\"Enter marks obtained in subject 1: \"))\n",
    "sub2 = int(input(\"Enter marks obtained in subject 2: \"))\n",
    "sub3 = int(input(\"Enter marks obtained in subject 3: \"))\n",
    "        \n",
    "avg_marks = (sub1 + sub2 + sub3) / 3\n",
    "print(\"Average marks:\", format(avg_marks,'.2f'))\n",
    "        \n",
    "if avg_marks >= 90:\n",
    "  print(\"Grade: A\")\n",
    "elif avg_marks >= 80:\n",
    "  print(\"Grade: B\")\n",
    "elif avg_marks >= 70:\n",
    "  print(\"Grade: C\")\n",
    "elif avg_marks >= 60:\n",
    "  print(\"Grade: D\")\n",
    "else:\n",
    "  print(\"Grade: F\")"
   ]
  },
  {
   "cell_type": "code",
   "execution_count": 2,
   "id": "c8da0fd5-d326-4b7a-9ba0-4b501da4375a",
   "metadata": {},
   "outputs": [
    {
     "name": "stdout",
     "output_type": "stream",
     "text": [
      "Enter Marks Obtained in 5 Subjects: \n",
      "Your Grade is B1\n"
     ]
    }
   ],
   "source": [
    "print(\"Enter Marks Obtained in 5 Subjects: \")\n",
    "\n",
    "total1 = 44\n",
    "\n",
    "total2 = 67\n",
    "\n",
    "total3 = 76\n",
    "\n",
    "total4 = 99\n",
    "\n",
    "total5 = 58\n",
    " \n",
    "\n",
    "tot = total1 + total2 + total3 + total4 + total4\n",
    "\n",
    "avg = tot / 5\n",
    " \n",
    "\n",
    "if avg >= 91 and avg <= 100:\n",
    "\n",
    "    print(\"Your Grade is A1\")\n",
    "\n",
    "elif avg >= 81 and avg < 91:\n",
    "\n",
    "    print(\"Your Grade is A2\")\n",
    "\n",
    "elif avg >= 71 and avg < 81:\n",
    "\n",
    "    print(\"Your Grade is B1\")\n",
    "\n",
    "elif avg >= 61 and avg < 71:\n",
    "\n",
    "    print(\"Your Grade is B2\")\n",
    "\n",
    "elif avg >= 51 and avg < 61:\n",
    "\n",
    "    print(\"Your Grade is C1\")\n",
    "\n",
    "elif avg >= 41 and avg < 51:\n",
    "\n",
    "    print(\"Your Grade is C2\")\n",
    "\n",
    "elif avg >= 33 and avg < 41:\n",
    "\n",
    "    print(\"Your Grade is D\")\n",
    "\n",
    "elif avg >= 21 and avg < 33:\n",
    "\n",
    "    print(\"Your Grade is E1\")\n",
    "\n",
    "elif avg >= 0 and avg < 21:\n",
    "\n",
    "    print(\"Your Grade is E2\")\n",
    "\n",
    "else:\n",
    "\n",
    "    print(\"Invalid Input!\")\n"
   ]
  },
  {
   "cell_type": "code",
   "execution_count": null,
   "id": "51537f61-3fd9-4117-9e48-a36b0e21bf11",
   "metadata": {},
   "outputs": [],
   "source": []
  }
 ],
 "metadata": {
  "kernelspec": {
   "display_name": "Python 3 (ipykernel)",
   "language": "python",
   "name": "python3"
  },
  "language_info": {
   "codemirror_mode": {
    "name": "ipython",
    "version": 3
   },
   "file_extension": ".py",
   "mimetype": "text/x-python",
   "name": "python",
   "nbconvert_exporter": "python",
   "pygments_lexer": "ipython3",
   "version": "3.12.2"
  }
 },
 "nbformat": 4,
 "nbformat_minor": 5
}
